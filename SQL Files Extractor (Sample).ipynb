{
 "cells": [
  {
   "cell_type": "markdown",
   "id": "50b12c3f",
   "metadata": {},
   "source": [
    "### Purpose \n",
    "Exploring a quick way to extract table information from sql files. This use case is suitable for anyone who is dealing with SQL files locally. I will write out a more extensive ReadMe for this.\n",
    "\n",
    "#### Basic Use Cases\n",
    "1. Identify tables and variables used within a single SQL script\n",
    "1. Map out which SQL scripts are using which tables and variables"
   ]
  },
  {
   "cell_type": "code",
   "execution_count": 29,
   "id": "038b301e",
   "metadata": {},
   "outputs": [
    {
     "data": {
      "text/html": [
       "<style>.container { width:100% !important; }</style>"
      ],
      "text/plain": [
       "<IPython.core.display.HTML object>"
      ]
     },
     "metadata": {},
     "output_type": "display_data"
    },
    {
     "name": "stdout",
     "output_type": "stream",
     "text": [
      "The autoreload extension is already loaded. To reload it, use:\n",
      "  %reload_ext autoreload\n"
     ]
    }
   ],
   "source": [
    "from IPython.core.display import display, HTML\n",
    "display(HTML(\"<style>.container { width:100% !important; }</style>\"))\n",
    "\n",
    "%load_ext autoreload\n",
    "%autoreload 2\n",
    "\n",
    "import re\n",
    "import os\n",
    "import numpy as np\n",
    "import pandas as pd\n",
    "from tqdm import tqdm\n",
    "from glob import glob\n",
    "from sql_explorer_v2 import *"
   ]
  },
  {
   "cell_type": "markdown",
   "id": "b3f66b2d",
   "metadata": {},
   "source": [
    "### Locating SQL scripts "
   ]
  },
  {
   "cell_type": "code",
   "execution_count": 30,
   "id": "8a6bd6dd",
   "metadata": {},
   "outputs": [],
   "source": [
    "# Ideally, your SQL scripts should all be located in one central folder\n",
    "# Change this base_path to the path of your own SQL scripts\n",
    "base_path = os.environ['sql_explorer_folder'].replace(\"sql_script_explorer/sql_test_scripts/\", \"script_explorer_scripts/\")\n",
    "\n",
    "# Use this if you have all your SQL scripts exist in one main folder, \n",
    "# but scattered into multiple folders within that central folder\n",
    "# all_sql_scripts = glob(base_path + \"**/*.sql\", recursive=True)\n",
    "\n",
    "# Default setting is all the scripts reside in just one folder (Not advisable for production setting)\n",
    "all_sql_scripts = glob(base_path + \"*.sql\", recursive=True)\n",
    "all_sql_scripts = [i.replace(base_path, '') for i in all_sql_scripts]"
   ]
  },
  {
   "cell_type": "markdown",
   "id": "bc57c987",
   "metadata": {},
   "source": [
    "### Test one script"
   ]
  },
  {
   "cell_type": "code",
   "execution_count": 31,
   "id": "4dbc6e7c",
   "metadata": {},
   "outputs": [],
   "source": [
    "sql_script_name = all_sql_scripts[4]\n",
    "with open(base_path + sql_script_name) as filename:\n",
    "    sql = \" \".join(filename.readlines())\n",
    "\n",
    "script = SQL(sql)\n",
    "script.clean_whitespaces()\n",
    "script.lowercase_text()\n",
    "script.replace_commas_w_newline()\n",
    "script.split_sql_text_by_newlines()\n",
    "script.rm_comments()\n",
    "script.rm_empty_strings()\n",
    "script.extract_tables()\n",
    "script.extract_primary_tables()\n",
    "script.extract_table_variables()\n",
    "script.clean_up_case_when_vars()\n",
    "script.clean_date_timestamp_vars()"
   ]
  },
  {
   "cell_type": "markdown",
   "id": "df5163e9",
   "metadata": {},
   "source": [
    "### Looping through all SQL scripts"
   ]
  },
  {
   "cell_type": "code",
   "execution_count": 33,
   "id": "1356b37a",
   "metadata": {},
   "outputs": [],
   "source": [
    "main_dict = dict()\n",
    "for script_name in all_sql_scripts:\n",
    "    file_name = script_name.split('/')[-1]\n",
    "    with open(base_path + script_name) as filename:\n",
    "        sql = \" \".join(filename.readlines())\n",
    "\n",
    "    script = SQL(sql)\n",
    "    script.clean_whitespaces()\n",
    "    script.lowercase_text()\n",
    "    script.replace_commas_w_newline()\n",
    "    script.split_sql_text_by_newlines()\n",
    "    script.rm_comments()\n",
    "    script.rm_empty_strings()\n",
    "    script.extract_tables()\n",
    "    script.extract_primary_tables()\n",
    "    script.extract_table_variables()\n",
    "    script.clean_up_case_when_vars()\n",
    "    script.clean_date_timestamp_vars()\n",
    "    \n",
    "    main_dict[file_name] = script.raw_sql_tables"
   ]
  },
  {
   "cell_type": "markdown",
   "id": "98b3be3f",
   "metadata": {},
   "source": [
    "### Summary Tables "
   ]
  },
  {
   "cell_type": "code",
   "execution_count": 35,
   "id": "f57fdf58",
   "metadata": {},
   "outputs": [],
   "source": [
    "summary_table = pd.DataFrame.from_dict(main_dict, orient='index').reset_index()\n",
    "summary_table.columns = ['script', 'tables']\n",
    "summary_table['tables'] = [i.split(\" | \") for i in summary_table['tables']]\n",
    "summary_table = summary_table.explode('tables').reset_index(drop=True)\n",
    "summary_table['tables'] = [i.split('.')[-1] for i in summary_table['tables']]\n",
    "# summary_table"
   ]
  },
  {
   "cell_type": "markdown",
   "id": "a8d97912",
   "metadata": {},
   "source": [
    "#### Mapping Script To Tables "
   ]
  },
  {
   "cell_type": "code",
   "execution_count": 20,
   "id": "79e7f9e8",
   "metadata": {},
   "outputs": [],
   "source": [
    "script_to_table = summary_table.groupby('script')['tables'].apply(' | '.join).reset_index()\n",
    "script_to_table['cnt'] = [len(i.split(\" | \")) for i in script_to_table['tables']]\n",
    "script_to_table.loc[script_to_table['tables'] == '', 'cnt'] = 0\n",
    "# script_to_table.head()"
   ]
  },
  {
   "cell_type": "markdown",
   "id": "25b601a0",
   "metadata": {},
   "source": [
    "#### Mapping Tables To Script"
   ]
  },
  {
   "cell_type": "code",
   "execution_count": 21,
   "id": "9d4d76dd",
   "metadata": {},
   "outputs": [],
   "source": [
    "table_to_script = summary_table.groupby('tables')['script'].apply(' | '.join).reset_index()\n",
    "table_to_script['cnt'] = [len(i.split(\" | \")) for i in table_to_script['script']]\n",
    "table_to_script.loc[table_to_script['tables'] == '', 'cnt'] = 0\n",
    "# table_to_script.head()"
   ]
  }
 ],
 "metadata": {
  "hide_input": false,
  "kernelspec": {
   "display_name": "Python 3",
   "language": "python",
   "name": "python3"
  },
  "language_info": {
   "codemirror_mode": {
    "name": "ipython",
    "version": 3
   },
   "file_extension": ".py",
   "mimetype": "text/x-python",
   "name": "python",
   "nbconvert_exporter": "python",
   "pygments_lexer": "ipython3",
   "version": "3.9.5"
  },
  "toc": {
   "base_numbering": 1,
   "nav_menu": {},
   "number_sections": true,
   "sideBar": true,
   "skip_h1_title": false,
   "title_cell": "Table of Contents",
   "title_sidebar": "Contents",
   "toc_cell": false,
   "toc_position": {},
   "toc_section_display": true,
   "toc_window_display": false
  }
 },
 "nbformat": 4,
 "nbformat_minor": 5
}
